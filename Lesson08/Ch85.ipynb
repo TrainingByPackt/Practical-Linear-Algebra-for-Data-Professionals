{
 "cells": [
  {
   "cell_type": "markdown",
   "metadata": {},
   "source": [
    "# Ch8.5 Regression by pseudoinverses"
   ]
  },
  {
   "cell_type": "code",
   "execution_count": 9,
   "metadata": {},
   "outputs": [
    {
     "data": {
      "text/html": [
       "<div>\n",
       "<style scoped>\n",
       "    .dataframe tbody tr th:only-of-type {\n",
       "        vertical-align: middle;\n",
       "    }\n",
       "\n",
       "    .dataframe tbody tr th {\n",
       "        vertical-align: top;\n",
       "    }\n",
       "\n",
       "    .dataframe thead th {\n",
       "        text-align: right;\n",
       "    }\n",
       "</style>\n",
       "<table border=\"1\" class=\"dataframe\">\n",
       "  <thead>\n",
       "    <tr style=\"text-align: right;\">\n",
       "      <th></th>\n",
       "      <th>X1</th>\n",
       "      <th>X2</th>\n",
       "      <th>y</th>\n",
       "    </tr>\n",
       "  </thead>\n",
       "  <tbody>\n",
       "    <tr>\n",
       "      <th>0</th>\n",
       "      <td>51.364532</td>\n",
       "      <td>49.310551</td>\n",
       "      <td>20.362863</td>\n",
       "    </tr>\n",
       "    <tr>\n",
       "      <th>1</th>\n",
       "      <td>52.303917</td>\n",
       "      <td>48.939984</td>\n",
       "      <td>20.441794</td>\n",
       "    </tr>\n",
       "    <tr>\n",
       "      <th>2</th>\n",
       "      <td>50.786328</td>\n",
       "      <td>49.533581</td>\n",
       "      <td>20.327083</td>\n",
       "    </tr>\n",
       "    <tr>\n",
       "      <th>3</th>\n",
       "      <td>48.665742</td>\n",
       "      <td>48.653282</td>\n",
       "      <td>19.812553</td>\n",
       "    </tr>\n",
       "    <tr>\n",
       "      <th>4</th>\n",
       "      <td>49.104533</td>\n",
       "      <td>50.386902</td>\n",
       "      <td>19.726644</td>\n",
       "    </tr>\n",
       "  </tbody>\n",
       "</table>\n",
       "</div>"
      ],
      "text/plain": [
       "          X1         X2          y\n",
       "0  51.364532  49.310551  20.362863\n",
       "1  52.303917  48.939984  20.441794\n",
       "2  50.786328  49.533581  20.327083\n",
       "3  48.665742  48.653282  19.812553\n",
       "4  49.104533  50.386902  19.726644"
      ]
     },
     "execution_count": 9,
     "metadata": {},
     "output_type": "execute_result"
    }
   ],
   "source": [
    "#import packages\n",
    "import numpy as np\n",
    "from matplotlib import pyplot as plt\n",
    "from scipy import stats\n",
    "import pandas as pd\n",
    "from sklearn import linear_model, datasets\n",
    "\n",
    "#create a ficticious regression dataset, specify parameters and features\n",
    "n_samples = 200\n",
    "n_outliers = 5\n",
    "n_features = 2\n",
    "n_informative=1\n",
    "\n",
    "X, y, coef = datasets.make_regression(n_samples=n_samples, n_features=n_features,\n",
    "                                      n_informative=n_informative, noise=10,\n",
    "                                      coef=True, random_state=0)\n",
    "\n",
    "#these next two lines are optional\n",
    "y = y/100 + 20\n",
    "X = X + 50\n",
    "\n",
    "#combine into a dataframe\n",
    "data = pd.DataFrame(np.concatenate((X.reshape(200,n_features),y.reshape(200,1)),axis=1))\n",
    "data.columns = ['X1','X2','y']\n",
    "data.head()"
   ]
  },
  {
   "cell_type": "code",
   "execution_count": 7,
   "metadata": {},
   "outputs": [
    {
     "data": {
      "text/plain": [
       "Text(0.5, 1.0, 'Predicted value versus actual')"
      ]
     },
     "execution_count": 7,
     "metadata": {},
     "output_type": "execute_result"
    },
    {
     "data": {
      "image/png": "[encoded data removed]",
      "text/plain": [
       "<Figure size 432x288 with 1 Axes>"
      ]
     },
     "metadata": {},
     "output_type": "display_data"
    }
   ],
   "source": [
    "from numpy.linalg import inv\n",
    "import matplotlib.pyplot as plt\n",
    "yhat = X.dot(np.linalg.pinv(X).dot(y))\n",
    "\n",
    "plt.scatter(y,yhat)\n",
    "plt.ylabel(\"predicted y value\")\n",
    "plt.xlabel(\"actual y value\")\n",
    "plt.title(\"Predicted value versus actual\")"
   ]
  },
  {
   "cell_type": "markdown",
   "metadata": {},
   "source": [
    "**Exercises ch8.5**\n",
    "\n",
    "Using the codes above, make a similar regression plot (actual versus predicted) and find the root mean squared error between the predicted value and the actual value for the following sets of parameters\n",
    "\n",
    "Question 1:\n",
    "* **n_features = 5** (the number of predictor columns)\n",
    "* **n_samples = 300** (the number of rows)\n",
    "* **n_outliers = 50** (the number of outlier measurements)\n",
    "* **n_informative = 2** (the number of features that actually matter)\n",
    "\n",
    "Question 2:\n",
    "* **n_features = 10**\n",
    "* **n_samples = 150**\n",
    "* **n_outliers = 50**\n",
    "* **n_informative = 8**"
   ]
  },
  {
   "cell_type": "code",
   "execution_count": null,
   "metadata": {},
   "outputs": [],
   "source": []
  }
 ],
 "metadata": {
  "kernelspec": {
   "display_name": "Python 3",
   "language": "python",
   "name": "python3"
  },
  "language_info": {
   "codemirror_mode": {
    "name": "ipython",
    "version": 3
   },
   "file_extension": ".py",
   "mimetype": "text/x-python",
   "name": "python",
   "nbconvert_exporter": "python",
   "pygments_lexer": "ipython3",
   "version": "3.6.7"
  }
 },
 "nbformat": 4,
 "nbformat_minor": 2
}
