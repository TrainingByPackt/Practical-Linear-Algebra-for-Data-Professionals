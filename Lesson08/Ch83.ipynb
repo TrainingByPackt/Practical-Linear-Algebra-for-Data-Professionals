{
 "cells": [
  {
   "cell_type": "markdown",
   "metadata": {},
   "source": [
    "# 8.3 Singular value decomposition with python\n",
    "\n",
    "In this section we will decompose a matrix into it's singular value decomposition using python 3. This process is pretty simple.\n",
    "\n",
    "To get a matrix's singular value decomposition we can use scipy's package.\n",
    "\n",
    "Specifically;\n",
    "`from scipy.linalg import svd`\n",
    "\n",
    "We will also need numpy to."
   ]
  },
  {
   "cell_type": "code",
   "execution_count": 2,
   "metadata": {},
   "outputs": [],
   "source": [
    "import numpy as np"
   ]
  },
  {
   "cell_type": "markdown",
   "metadata": {},
   "source": [
    "Suppose our matrix is the same as the hand written example.\n",
    "\n",
    "i.e. $$ A = \\begin{bmatrix} 1 & 0 \\\\ 1 & -1 \\\\ 0 & 1\\end{bmatrix}$$"
   ]
  },
  {
   "cell_type": "code",
   "execution_count": 3,
   "metadata": {},
   "outputs": [
    {
     "data": {
      "text/plain": [
       "array([[ 1,  0],\n",
       "       [ 1, -1],\n",
       "       [ 0,  1]])"
      ]
     },
     "execution_count": 3,
     "metadata": {},
     "output_type": "execute_result"
    }
   ],
   "source": [
    "A = np.array([[1,0],[1,-1],[0,1]])\n",
    "A"
   ]
  },
  {
   "cell_type": "markdown",
   "metadata": {},
   "source": [
    "To find the decompistion of A, we use the scipy function svd."
   ]
  },
  {
   "cell_type": "code",
   "execution_count": 4,
   "metadata": {},
   "outputs": [],
   "source": [
    "from scipy.linalg import svd\n",
    "U, s, VT = svd(A)"
   ]
  },
  {
   "cell_type": "markdown",
   "metadata": {},
   "source": [
    "This is the matrix U"
   ]
  },
  {
   "cell_type": "code",
   "execution_count": 5,
   "metadata": {},
   "outputs": [
    {
     "data": {
      "text/plain": [
       "array([[-4.08248290e-01,  7.07106781e-01, -5.77350269e-01],\n",
       "       [-8.16496581e-01, -5.55111512e-17,  5.77350269e-01],\n",
       "       [ 4.08248290e-01,  7.07106781e-01,  5.77350269e-01]])"
      ]
     },
     "execution_count": 5,
     "metadata": {},
     "output_type": "execute_result"
    }
   ],
   "source": [
    "U"
   ]
  },
  {
   "cell_type": "markdown",
   "metadata": {},
   "source": [
    "The object s consists of the singular values. The output is not the matrix, just the values!\n",
    "\n",
    "Note if your matrix U has values such as -5.55111512e-17, just take it to be zero since the number is so small."
   ]
  },
  {
   "cell_type": "code",
   "execution_count": 6,
   "metadata": {},
   "outputs": [
    {
     "data": {
      "text/plain": [
       "array([1.73205081, 1.        ])"
      ]
     },
     "execution_count": 6,
     "metadata": {},
     "output_type": "execute_result"
    }
   ],
   "source": [
    "s"
   ]
  },
  {
   "cell_type": "markdown",
   "metadata": {},
   "source": [
    "This is the matrix V.T (the transpose of V)"
   ]
  },
  {
   "cell_type": "code",
   "execution_count": 7,
   "metadata": {},
   "outputs": [
    {
     "data": {
      "text/plain": [
       "array([[-0.70710678,  0.70710678],\n",
       "       [ 0.70710678,  0.70710678]])"
      ]
     },
     "execution_count": 7,
     "metadata": {},
     "output_type": "execute_result"
    }
   ],
   "source": [
    "VT"
   ]
  },
  {
   "cell_type": "markdown",
   "metadata": {},
   "source": [
    "It's that simple!\n",
    "\n",
    "Now one thing we have to keep in mind with forming the matrix Sigma is that it is the same shape as the original matrix, only with singular value on it's diagonal entries.\n",
    "\n",
    "Thus to form the matrix sigma, we have to first form an empty matrix of the same shape as the original matrix A, and then input the singular values on the diagonal.\n",
    "\n",
    "Hence we want a matrix sigma of the form (since A is 3x2);\n",
    "\n",
    "$$ \\Sigma = \\begin{bmatrix} \\sqrt{3} & 0 \\\\ 0 & 1 \\\\ 0 & 0 \\end{bmatrix}$$\n",
    "\n",
    "which in python is of the form;\n",
    "\n",
    "`np.array([[1.73205081,0],[0,1],[0,0]])`\n",
    "\n",
    "This is done in several steps;\n",
    "\n",
    "1. Create an empty mxn shaped matrix using numpy's zeros function. This is matrix sigma\n",
    "2. Set the entries of the diagonal matrix sigma equal to the singular values using the numpy zeros function. The positions in sigma are dependendent upon the original shape of A (see below).\n",
    "\n",
    "To check our work, we use the numpy dot function to multiply matrices"
   ]
  },
  {
   "cell_type": "code",
   "execution_count": 12,
   "metadata": {},
   "outputs": [
    {
     "name": "stdout",
     "output_type": "stream",
     "text": [
      "The original input: \n",
      " [[ 1  0]\n",
      " [ 1 -1]\n",
      " [ 0  1]]\n",
      "\n",
      "\n",
      "The matrix after inputting: \n",
      " [[ 1.  0.]\n",
      " [ 1. -1.]\n",
      " [-0.  1.]]\n"
     ]
    }
   ],
   "source": [
    "from numpy import zeros\n",
    "from numpy import dot\n",
    "\n",
    "m,n = A.shape[0], A.shape[1]\n",
    "\n",
    "sigma = np.zeros((m, n))\n",
    "for i in range(min(m, n)):\n",
    "    sigma[i, i] = s[i]\n",
    "a1 = np.dot(U, np.dot(sigma, VT))\n",
    "print('The original input: \\n',A)\n",
    "print('\\n')\n",
    "print('The matrix after inputting: \\n',np.around(a1,1))"
   ]
  },
  {
   "cell_type": "markdown",
   "metadata": {},
   "source": [
    "We get the same thing (ignore any negative symbols associated with zeros)."
   ]
  },
  {
   "cell_type": "markdown",
   "metadata": {},
   "source": [
    "# Exercises\n",
    "\n",
    "For the following matrices, find the singular values using python\n",
    "\n",
    "\n",
    "Problem 1. $$ \\begin{bmatrix} 1 & 0 & 1\\\\ 1 & -1 & 1\\\\ 0 & 1 &0\\end{bmatrix}$$\n",
    "\n",
    "\n",
    "Problem 2. $$ \\begin{bmatrix} 1 & 2 \\\\ 2 & 1\\end{bmatrix}$$\n",
    "\n",
    "\n",
    "Problem 3. $$ \\begin{bmatrix} 1 & 1 \\\\ 1 & 1\\\\ 0 & 0\\end{bmatrix}$$\n",
    "\n",
    "\n",
    "Problem 4. $$ \\begin{bmatrix} 1 & -1 \\\\ 2 & 3\\end{bmatrix}$$\n",
    "\n",
    "\n",
    "Problem 5. $$ \\begin{bmatrix} 1 & 1 & 3 \\\\ 1 & -1 & 3\\end{bmatrix}$$\n",
    "\n",
    "\n",
    "Problem 6. Write a Python function that does the following:\n",
    " * Inputs any matrix\n",
    " * Finds and prints it's singular values\n",
    " * Forms a matrices of U, V.T and sigma (and prints them in their proper shape)\n",
    " * Returns a product of U, V.T and sigma that's equal to the original matrix.\n",
    " \n",
    "Problems 7-11: Use the function in problem 6 to input the matrices of problems 1-5 and have an equivalent output (input=output)"
   ]
  }
 ],
 "metadata": {
  "kernelspec": {
   "display_name": "Python 3",
   "language": "python",
   "name": "python3"
  },
  "language_info": {
   "codemirror_mode": {
    "name": "ipython",
    "version": 3
   },
   "file_extension": ".py",
   "mimetype": "text/x-python",
   "name": "python",
   "nbconvert_exporter": "python",
   "pygments_lexer": "ipython3",
   "version": "3.6.7"
  }
 },
 "nbformat": 4,
 "nbformat_minor": 2
}
