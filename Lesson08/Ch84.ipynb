{
 "cells": [
  {
   "cell_type": "markdown",
   "metadata": {},
   "source": [
    "# Ch8.4 Pseudoinverses with Python\n",
    "\n",
    "Now that we've established how to create a pseudo inverse, it's time to code them up in python. In this lesson we will be able to get the pseudo inverse using built in python functions, and also demonstrate that we can get it using the SVD process we did in the SVD python lesson.\n",
    "\n",
    "To perform pseudoinverses, we can use the `numpy.linalg.pinv` function from numpy."
   ]
  },
  {
   "cell_type": "code",
   "execution_count": 22,
   "metadata": {},
   "outputs": [
    {
     "data": {
      "text/plain": [
       "array([[ 1,  0],\n",
       "       [ 1, -1],\n",
       "       [ 0,  1]])"
      ]
     },
     "execution_count": 22,
     "metadata": {},
     "output_type": "execute_result"
    }
   ],
   "source": [
    "import numpy as np\n",
    "#consider the matrix from the hand written example done previously;\n",
    "A = np.array([[1,0],[1,-1],[0,1]],dtype=np.int64)\n",
    "A"
   ]
  },
  {
   "cell_type": "code",
   "execution_count": 18,
   "metadata": {},
   "outputs": [
    {
     "name": "stdout",
     "output_type": "stream",
     "text": [
      "[[ 0.66666667  0.33333333  0.33333333]\n",
      " [ 0.33333333 -0.33333333  0.66666667]]\n"
     ]
    }
   ],
   "source": [
    "#we input our matrix that we want the inverse for into the function\n",
    "A_pinv = np.linalg.pinv(A)\n",
    "print(A_pinv)"
   ]
  },
  {
   "cell_type": "markdown",
   "metadata": {},
   "source": [
    "which is the same as before;\n",
    "\n",
    "$$A^{+}=\\begin{bmatrix} 2/3 & 1/3 & 1/3 \\\\ 1/3 & -1/3 & 2/3\\end{bmatrix}$$"
   ]
  },
  {
   "cell_type": "markdown",
   "metadata": {},
   "source": [
    "Which equals our original calculation from the previous section.\n",
    "\n",
    "Now what does the left hand product of A and it's pseudoinverse equal?\n",
    "\n",
    "$$AA^{+}=?$$"
   ]
  },
  {
   "cell_type": "code",
   "execution_count": 21,
   "metadata": {},
   "outputs": [
    {
     "data": {
      "text/plain": [
       "array([[ 0.66667,  0.33333,  0.33333],\n",
       "       [ 0.33333,  0.66667, -0.33333],\n",
       "       [ 0.33333, -0.33333,  0.66667]])"
      ]
     },
     "execution_count": 21,
     "metadata": {},
     "output_type": "execute_result"
    }
   ],
   "source": [
    "AAp = np.around(np.dot(A,A_pinv),decimals=5)\n",
    "AAp"
   ]
  },
  {
   "cell_type": "markdown",
   "metadata": {},
   "source": [
    "$$AA^{+}=\\begin{bmatrix} 2/3 & 1/3 & 1/3 \\\\ 1/3 & 2/3 & -1/3\\\\ 1/3 & -1/3 & 2/3\\end{bmatrix}$$\n",
    "\n",
    "Now what about $$A^{+} A = ?$$"
   ]
  },
  {
   "cell_type": "code",
   "execution_count": 15,
   "metadata": {},
   "outputs": [
    {
     "data": {
      "text/plain": [
       "array([[ 1., -0.],\n",
       "       [-0.,  1.]])"
      ]
     },
     "execution_count": 15,
     "metadata": {},
     "output_type": "execute_result"
    }
   ],
   "source": [
    "np.around(np.dot(A_pinv,A),decimals=5)"
   ]
  },
  {
   "cell_type": "markdown",
   "metadata": {},
   "source": [
    "$$A^{+} A= \\begin{bmatrix} 1 & 0 \\\\ 0 & 1\\end{bmatrix}$$"
   ]
  },
  {
   "cell_type": "markdown",
   "metadata": {},
   "source": [
    "# Exercises\n",
    "\n",
    "For the following matrices, find the pseudoinverse, and both of the  products;\n",
    "\n",
    "$$A^{+} A $$\n",
    "\n",
    "$$AA^{+}$$\n",
    "\n",
    "\n",
    "Problem 1. $$ \\begin{bmatrix} 1 & 0 & 1\\\\ 1 & -1 & 1\\\\ 0 & 1 &0\\end{bmatrix}$$\n",
    "\n",
    "\n",
    "\n",
    "Problem 2. $$ \\begin{bmatrix} 1 & 2 \\\\ 2 & 1\\end{bmatrix}$$\n",
    "\n",
    "\n",
    "Problem 3. $$ \\begin{bmatrix} 1 & 1 \\\\ 1 & 1\\\\ 0 & 0\\end{bmatrix}$$\n",
    "\n",
    "\n",
    "Problem 4. $$ \\begin{bmatrix} 1 & -1 \\\\ 2 & 3\\end{bmatrix}$$\n",
    "\n",
    "\n",
    "Problem 5. $$ \\begin{bmatrix} 1 & 1 & 3 \\\\ 1 & -1 & 3\\end{bmatrix}$$"
   ]
  },
  {
   "cell_type": "code",
   "execution_count": null,
   "metadata": {},
   "outputs": [],
   "source": []
  }
 ],
 "metadata": {
  "kernelspec": {
   "display_name": "Python 3",
   "language": "python",
   "name": "python3"
  },
  "language_info": {
   "codemirror_mode": {
    "name": "ipython",
    "version": 3
   },
   "file_extension": ".py",
   "mimetype": "text/x-python",
   "name": "python",
   "nbconvert_exporter": "python",
   "pygments_lexer": "ipython3",
   "version": "3.6.7"
  }
 },
 "nbformat": 4,
 "nbformat_minor": 2
}
